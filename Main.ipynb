{
 "cells": [
  {
   "cell_type": "code",
   "execution_count": 1,
   "metadata": {},
   "outputs": [
    {
     "name": "stderr",
     "output_type": "stream",
     "text": [
      "Using TensorFlow backend.\n"
     ]
    }
   ],
   "source": [
    "import time\n",
    "import fileconfig as cfg\n",
    "import pandas as pd\n",
    "import datetime as dt\n",
    "import numpy as np\n",
    "import matplotlib.pyplot as plt\n",
    "from numpy import array\n",
    "from keras.models import load_model"
   ]
  },
  {
   "cell_type": "code",
   "execution_count": 2,
   "metadata": {},
   "outputs": [
    {
     "name": "stderr",
     "output_type": "stream",
     "text": [
      "WARNING: Logging before flag parsing goes to stderr.\n",
      "W0918 19:21:23.276867 17364 deprecation_wrapper.py:119] From C:\\Users\\LENOVO\\Anaconda3\\envs\\fhadli\\lib\\site-packages\\keras\\backend\\tensorflow_backend.py:74: The name tf.get_default_graph is deprecated. Please use tf.compat.v1.get_default_graph instead.\n",
      "\n",
      "W0918 19:21:23.332718 17364 deprecation_wrapper.py:119] From C:\\Users\\LENOVO\\Anaconda3\\envs\\fhadli\\lib\\site-packages\\keras\\backend\\tensorflow_backend.py:517: The name tf.placeholder is deprecated. Please use tf.compat.v1.placeholder instead.\n",
      "\n",
      "W0918 19:21:23.345682 17364 deprecation_wrapper.py:119] From C:\\Users\\LENOVO\\Anaconda3\\envs\\fhadli\\lib\\site-packages\\keras\\backend\\tensorflow_backend.py:4138: The name tf.random_uniform is deprecated. Please use tf.random.uniform instead.\n",
      "\n",
      "W0918 19:21:24.199663 17364 deprecation_wrapper.py:119] From C:\\Users\\LENOVO\\Anaconda3\\envs\\fhadli\\lib\\site-packages\\keras\\backend\\tensorflow_backend.py:174: The name tf.get_default_session is deprecated. Please use tf.compat.v1.get_default_session instead.\n",
      "\n",
      "W0918 19:21:24.201660 17364 deprecation_wrapper.py:119] From C:\\Users\\LENOVO\\Anaconda3\\envs\\fhadli\\lib\\site-packages\\keras\\backend\\tensorflow_backend.py:181: The name tf.ConfigProto is deprecated. Please use tf.compat.v1.ConfigProto instead.\n",
      "\n",
      "W0918 19:21:24.524874 17364 deprecation_wrapper.py:119] From C:\\Users\\LENOVO\\Anaconda3\\envs\\fhadli\\lib\\site-packages\\keras\\optimizers.py:790: The name tf.train.Optimizer is deprecated. Please use tf.compat.v1.train.Optimizer instead.\n",
      "\n",
      "W0918 19:21:25.263381 17364 deprecation.py:323] From C:\\Users\\LENOVO\\Anaconda3\\envs\\fhadli\\lib\\site-packages\\tensorflow\\python\\ops\\math_grad.py:1250: add_dispatch_support.<locals>.wrapper (from tensorflow.python.ops.array_ops) is deprecated and will be removed in a future version.\n",
      "Instructions for updating:\n",
      "Use tf.where in 2.0, which has the same broadcast rule as np.where\n"
     ]
    }
   ],
   "source": [
    "model = load_model(cfg.main['model_dir'])"
   ]
  },
  {
   "cell_type": "code",
   "execution_count": 3,
   "metadata": {},
   "outputs": [],
   "source": [
    "def get_testing_data(data):\n",
    "    step = cfg.train['timestep']\n",
    "    data = data.tail(step)\n",
    "  \n",
    "    date = data['Date'].str[-2:]\n",
    "    value = data['Value'].values\n",
    "    result = list()\n",
    "  \n",
    "    for i, j in enumerate(date):\n",
    "        result.append([j, value[i]])\n",
    "    \n",
    "    return result"
   ]
  },
  {
   "cell_type": "code",
   "execution_count": 4,
   "metadata": {},
   "outputs": [],
   "source": [
    "def get_history_length(data):\n",
    "    his_len = data.shape[0]\n",
    "    return his_len"
   ]
  },
  {
   "cell_type": "code",
   "execution_count": 5,
   "metadata": {},
   "outputs": [],
   "source": [
    "def prediction(X_input):\n",
    "    X_input = X_input.reshape((1, len(X_input), len(X_input[0])))\n",
    "    yhat = model.predict(X_input, verbose=0)\n",
    "    return yhat"
   ]
  },
  {
   "cell_type": "code",
   "execution_count": 6,
   "metadata": {},
   "outputs": [],
   "source": [
    "def predict_rest(X_test):\n",
    "    n_previous_data = cfg.train['timestep'] * (-1)\n",
    "    value_pred = prediction(array(X_test[n_previous_data:]))\n",
    "    X_test.append([int(X_test[-1][0])+1, value_pred])\n",
    "  \n",
    "    return value_pred, X_test"
   ]
  },
  {
   "cell_type": "code",
   "execution_count": 7,
   "metadata": {},
   "outputs": [],
   "source": [
    "def get_today_date(yesterday_date):\n",
    "    string_date = time.strftime(\"%Y-%m-\"+str(format((yesterday_date+1), '02d')))\n",
    "    return string_date"
   ]
  },
  {
   "cell_type": "code",
   "execution_count": 10,
   "metadata": {},
   "outputs": [],
   "source": [
    "def main():\n",
    "    expense_hist = pd.read_csv(cfg.main['testing_data_dir'])\n",
    "    expense_len = expense_hist.shape[0]  \n",
    "    expend_df = expense_hist[expense_hist.Expense.notnull()]\n",
    "    balance = input(\"Insert Your Balance (For simulation only):\")\n",
    "    \n",
    "    for i in range(expend_df.shape[0]+1, expense_len+1): #expense_len+1\n",
    "        print(\"Date: \",i)\n",
    "        expend_df = expend_df[expend_df.Expense.notnull()]\n",
    "        money = expend_df['Value'].values\n",
    "        history_len = get_history_length(expend_df)\n",
    "        unpredicted_len = expense_len - history_len\n",
    "        today_date = get_today_date(history_len)\n",
    "\n",
    "        expense = input(\"What's your expense? (Blank to STOP)\")\n",
    "        if not expense.strip():\n",
    "            break\n",
    "            \n",
    "        value  = input(\"How much you spend? \")\n",
    "\n",
    "        expend_df = expend_df.append(pd.Series([(history_len+1), today_date, expense, int(value)], index=expend_df.columns), ignore_index=True)\n",
    "        money = np.append(money, [int(value)])\n",
    "        predict = get_testing_data(expend_df)\n",
    "        \n",
    "        money_temp = 0\n",
    "        for i in range(unpredicted_len):\n",
    "            value_pred, predict = predict_rest(predict)\n",
    "            money_temp += int(value_pred)\n",
    "            money = np.append(money, [int(value_pred)])\n",
    "\n",
    "        date = [i for i in range(1,32)]\n",
    "        if(int(balance) < money_temp):\n",
    "            print(\"Your Financial Condition is Unhealthy\")\n",
    "            plt.plot(date, money, 'r')\n",
    "        else:\n",
    "            print(\"Your Financial Condition is Healthy\")\n",
    "            plt.plot(date, money, 'g')\n",
    "        plt.show()"
   ]
  },
  {
   "cell_type": "code",
   "execution_count": 12,
   "metadata": {
    "scrolled": true
   },
   "outputs": [
    {
     "name": "stdout",
     "output_type": "stream",
     "text": [
      "Insert Your Balance (For simulation only):1000000\n",
      "Date:  7\n",
      "What's your expense? (Blank to STOP)Food\n",
      "How much you spend? 50000\n",
      "Your Financial Condition is Healthy\n"
     ]
    },
    {
     "data": {
      "image/png": "[encoded data removed]",
      "text/plain": [
       "<Figure size 432x288 with 1 Axes>"
      ]
     },
     "metadata": {
      "needs_background": "light"
     },
     "output_type": "display_data"
    },
    {
     "name": "stdout",
     "output_type": "stream",
     "text": [
      "Date:  8\n",
      "What's your expense? (Blank to STOP)Travel\n",
      "How much you spend? 100000\n",
      "Your Financial Condition is Unhealthy\n"
     ]
    },
    {
     "data": {
      "image/png": "[encoded data removed]",
      "text/plain": [
       "<Figure size 432x288 with 1 Axes>"
      ]
     },
     "metadata": {
      "needs_background": "light"
     },
     "output_type": "display_data"
    },
    {
     "name": "stdout",
     "output_type": "stream",
     "text": [
      "Date:  9\n",
      "What's your expense? (Blank to STOP)\n"
     ]
    }
   ],
   "source": [
    "main()"
   ]
  },
  {
   "cell_type": "code",
   "execution_count": null,
   "metadata": {},
   "outputs": [],
   "source": []
  }
 ],
 "metadata": {
  "kernelspec": {
   "display_name": "Python 3",
   "language": "python",
   "name": "python3"
  },
  "language_info": {
   "codemirror_mode": {
    "name": "ipython",
    "version": 3
   },
   "file_extension": ".py",
   "mimetype": "text/x-python",
   "name": "python",
   "nbconvert_exporter": "python",
   "pygments_lexer": "ipython3",
   "version": "3.7.4"
  }
 },
 "nbformat": 4,
 "nbformat_minor": 2
}
